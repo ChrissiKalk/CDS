{
 "cells": [
  {
   "cell_type": "markdown",
   "id": "ba0f2afb-5d42-438b-86fc-03a36651e3df",
   "metadata": {},
   "source": [
    "A ternary search tree has nodes with the following attributes:\n",
    "* a character, can be `None`;\n",
    "* a Boolean flag that indicates whether the character represented\n",
    "  by this node has been the last in a string that was inserted in the\n",
    "  tree;\n",
    "* the \"less-than\" child;\n",
    "* the \"equals\" child and\n",
    "* the \"larger-than\" child.\n",
    "\n",
    "The data structure should support the following operations:\n",
    "* string insert\n",
    "* string search\n",
    "* prefix string search\n",
    "* return the number of strings stored in the data structure\n",
    "* return all strings stored in the data structure\n",
    "\n",
    "Also ensure that an instance of the data structure can be visualy represented, e.g., in aSCII format."
   ]
  },
  {
   "cell_type": "markdown",
   "id": "e24e0d90-56fa-4aed-a031-bb252cf55300",
   "metadata": {},
   "source": [
    "# Implementation"
   ]
  },
  {
   "cell_type": "code",
   "execution_count": 1,
   "id": "2e38f69e-5b57-4ae7-85ce-c1f65d6d3673",
   "metadata": {},
   "outputs": [],
   "source": [
    "%load_ext autoreload\n",
    "%autoreload 2"
   ]
  },
  {
   "cell_type": "markdown",
   "id": "c4e0a12a-37c0-4ed0-8bd3-225764f59f4c",
   "metadata": {},
   "source": [
    "The data structure has been implemented as a class."
   ]
  },
  {
   "cell_type": "code",
   "execution_count": 2,
   "id": "f079d2ad",
   "metadata": {},
   "outputs": [],
   "source": [
    "from __future__ import (\n",
    "    annotations,\n",
    ")\n",
    "from typing import List\n",
    "\n",
    "class Node():\n",
    "    def __init__(self, letter: str, last: bool = False):\n",
    "        self._letter = letter\n",
    "        self._left, self._right, self._equal = None, None, None\n",
    "        self._last = last\n",
    "\n",
    "    def __repr__(self):\n",
    "        return self.letter\n",
    "    \n",
    "    @property\n",
    "    def last(self):\n",
    "        return self._last\n",
    "\n",
    "    @last.setter\n",
    "    def last(self, last: str):\n",
    "        #print('setting ', last, ' as last property of the node.')\n",
    "        self._last = last\n",
    "    \n",
    "    @property\n",
    "    def letter(self):\n",
    "        return self._letter\n",
    "\n",
    "    @letter.setter\n",
    "    def letter(self, letter: str):\n",
    "        #print('setting ', letter, ' as letter of the node.')\n",
    "        self._letter = letter\n",
    "\n",
    "\n",
    "    @property\n",
    "    def left(self):\n",
    "        return self._left\n",
    "\n",
    "    @left.setter\n",
    "    def left(self, left: Node):\n",
    "        #print('setting left neighbor of node ', self,  'to ', left)\n",
    "        self._left = left\n",
    "\n",
    "    @property\n",
    "    def right(self):\n",
    "        return self._right\n",
    "\n",
    "    @right.setter\n",
    "    def right(self, right):\n",
    "        #print('setting right neighbor of node ', self,  'to ', right)\n",
    "        self._right = right\n",
    "\n",
    "    @property\n",
    "    def equal(self):\n",
    "        return self._equal\n",
    "\n",
    "    @equal.setter\n",
    "    def equal(self, equal):\n",
    "        #print('setting equal neighbor of node ', self,  'to ', equal)\n",
    "        self._equal = equal\n",
    "\n",
    "    \n",
    "\n",
    "\n",
    "\n",
    "\n",
    "    "
   ]
  },
  {
   "cell_type": "code",
   "execution_count": 3,
   "id": "b96c619e",
   "metadata": {},
   "outputs": [],
   "source": [
    "class TernarySearchTree():\n",
    "    \"Ternary search tree is a tree \"\n",
    "    def __init__(self, root: Node = None)-> None:\n",
    "        self._root = root\n",
    "        \n",
    "    @property\n",
    "    def root(self):\n",
    "        return self._root\n",
    "\n",
    "    @root.setter\n",
    "    def root(self, root):\n",
    "        #print('setting root of tree ', self,  'to ', root)\n",
    "        self._root = root\n",
    "      \n",
    "    def __repr__(self)-> str:\n",
    "        \"\"\"prints the tree recursively\"\"\"\n",
    "        def repr_rec(current: Node, depth: int, repr_string: str = \"\")-> str:\n",
    "            \"\"\"helper function to perform the recursion\"\"\"\n",
    "            if current.left:#if left node: add left node and perform depth first search for left part of the tree\n",
    "                repr_string += depth*\"    \"+\"lt: \"+current.left.letter+\" terminates \"+str(current.left.last)+\"\\n\"\\\n",
    "                + repr_rec(current.left, depth+1, \"\")\n",
    "            if current.equal:#if equal node: add equal node and perform depth first search for equal part of the tree\n",
    "                repr_string += depth*\"    \"+\"eq: \"+current.equal.letter+\" terminates \"+str(current.equal.last)+\"\\n\"\\\n",
    "                + repr_rec(current.equal, depth+1, \"\")\n",
    "            if current.right:#if right node: add right node and perform depth first search for right part of the tree\n",
    "                repr_string += depth*\"    \"+\"gt: \"+current.right.letter+\" terminates \"+str(current.right.last)+\"\\n\"\\\n",
    "                + repr_rec(current.right, depth+1, \"\")\n",
    "            return repr_string\n",
    "            \n",
    "        if self.root:\n",
    "            repr_string = \"root: \"+self.root.letter+\"\\n\"+repr_rec(self.root, 1)\n",
    "            return repr_string\n",
    "        else:\n",
    "            return \"this tree is empty\"\n",
    "                \n",
    "                \n",
    "    def __len__(self) -> int:  \n",
    "        \"\"\"counting the number of words in the tree by countign how many nodes in the tree a last nodes\"\"\"\n",
    "        def get_successessors_rec(self, node: Node, successors:List[Node] = []):\n",
    "            \"\"\"recursive function getting all successors of a node and returning them in a list\"\"\"\n",
    "            if node:\n",
    "                if not node.left and not node.right and not node.equal:#if no outgoing edges of current node return an empty list\n",
    "                    return []\n",
    "                else:\n",
    "                    if node.right:#if right node, add the node and recursivly inspect the right subtree\n",
    "                        successors.append(node.right)\n",
    "                        successors.extend(get_successessors_rec(self, node.right, []))\n",
    "                    if node.left:#if left node, add the node and recursivly inspect the left subtree\n",
    "                        successors.append(node.left)\n",
    "                        successors.extend(get_successessors_rec(self, node.left, []))\n",
    "                    if node.equal:#if equal node, add the node and recursivly inspect the equal subtree\n",
    "                        successors.append(node.equal)\n",
    "                        successors.extend(get_successessors_rec(self, node.equal, []))\n",
    "                return successors\n",
    "            else:\n",
    "                return []\n",
    "        \n",
    "        counter = 0\n",
    "        successors = get_successessors_rec(self, self.root, [])#get all nodes of the tree\n",
    "        successors.append(self.root)#also include the root\n",
    "        for node in successors:\n",
    "            if node:\n",
    "                if node.last == True:#count how many word nodes there are in the tree\n",
    "                    counter += 1\n",
    "        return counter\n",
    "            \n",
    " \n",
    "    \n",
    "    def insert(self, string):\n",
    "        \"\"\"inserts the string into the tree\"\"\"\n",
    "        if not self.root:#for an empty tree: create the root\n",
    "            if string: \n",
    "                self.root = Node(string[0])\n",
    "                current = self.root\n",
    "                for i, letter in enumerate(string[1:]):\n",
    "                    to_insert = Node(letter)\n",
    "                    if i == len(string)-2:\n",
    "                        to_insert.last = True\n",
    "                    current.equal = to_insert\n",
    "                    current = current.equal\n",
    "            else:\n",
    "                self.root = Node(\"\", last = True)\n",
    "        else:#otherwise insert string into exisitng tree\n",
    "            current = self.root\n",
    "            counter = 0\n",
    "            last = False\n",
    "            if string: \n",
    "                while counter < len(string):\n",
    "                    if counter == len(string)-1:\n",
    "                        last = True#inidcating whether we are at the last letter of the word\n",
    "                    if string[counter] == current.letter:#if we find the letter in the tree\n",
    "                        if last:#if it is the last letter: make this node a last node\n",
    "                            current.last = True\n",
    "                            counter += 1\n",
    "                        elif current.equal:#otherwise: if node has equal child, move on to equal child\n",
    "                            current = current.equal\n",
    "                            counter += 1\n",
    "                        else:#otherwise insert the next letter from the string as the new equal child\n",
    "                            counter += 1\n",
    "                            if counter == len(string)-1:\n",
    "                                last = True\n",
    "                            current.equal = Node(string[counter], last)\n",
    "                            #counter += 1\n",
    "                            current = current.equal\n",
    "                    elif string[counter] < current.letter:#if letter of node is smaller than current letter from string: inspect left child\n",
    "                        if current.left:\n",
    "                            current = current.left\n",
    "                        else:\n",
    "                            current.left = Node(string[counter], last)#if no left child: insert letter as left child\n",
    "                            current = current.left\n",
    "                            #counter += 1\n",
    "                    else:#if letter of node is bigger than current letter from string: inspect right child\n",
    "                        if current.right:\n",
    "                            current = current.right\n",
    "                        else:\n",
    "                            current.right = Node(string[counter], last)#if no right child: insert letter as right child\n",
    "                            current = current.right\n",
    "                            #counter += 1\n",
    "            else:\n",
    "                while current.left:\n",
    "                    current = current.left\n",
    "                current.left = Node(\"\", last = True)\n",
    "\n",
    "            \n",
    "    def search(self, string:str, exact: bool = False) -> bool:\n",
    "        \"\"\"searching a string in the ternary tree, returns False if string not found and True if found\"\"\"\n",
    "        if not self.root:#if tree empty return False\n",
    "            return False\n",
    "        current = self.root\n",
    "        counter = 0\n",
    "        while counter < len(string):\n",
    "            if string[counter] == current.letter:#if we find the letter in the tree\n",
    "                if current.equal and counter != len(string)-1:#and it is not the last letter of the string\n",
    "                    current = current.equal#move on to equal node\n",
    "                    counter += 1\n",
    "                elif counter == len(string)-1:#if it last letter increase counter by 1 and pass\n",
    "                    counter += 1\n",
    "                else:\n",
    "                    return False#if no equal child and not last letter of string: string is not in the tree\n",
    "            elif string[counter] < current.letter:#if letter smaller than letter of node\n",
    "                if current.left:\n",
    "                    current = current.left#move on to left child\n",
    "                else:\n",
    "                    return False\n",
    "            else:\n",
    "                if current.right:\n",
    "                    current = current.right\n",
    "                else:\n",
    "                    return False\n",
    "        \n",
    "        if exact == False:\n",
    "            return True\n",
    "        else:\n",
    "            if current.last == True:\n",
    "                return True\n",
    "            else:\n",
    "                return False\n",
    "    \n",
    "    def all_strings(self) -> List[str]:\n",
    "        \"\"\"function returning all strings in the tree\"\"\"\n",
    "        def get_all_strings_rec(current: Node, word: str):\n",
    "            \"\"\"recursive helper function to get all strings from the tree\"\"\"\n",
    "            strings = []\n",
    "            if current.left:#recursively search left part of tree\n",
    "                strings.extend(get_all_strings_rec(current.left, word))\n",
    "            if current.right:#recursively search right part of tree \n",
    "                 strings.extend(get_all_strings_rec(current.right, word))\n",
    "            if current.equal:#recursively search equal part of tree, but add the current letter\n",
    "                strings.extend(get_all_strings_rec(current.equal, word+current.letter))\n",
    "            if current.last:#if a wrod node is reached add word to the words to be returned\n",
    "                strings.extend([word+current.letter])\n",
    "            return strings\n",
    "\n",
    "        if not self.root:#if tree is empty, return an empty list\n",
    "            return []\n",
    "        current = self.root\n",
    "        strings = get_all_strings_rec(current, \"\")\n",
    "        return strings\n",
    "\n",
    "                \n",
    "                "
   ]
  },
  {
   "cell_type": "markdown",
   "id": "29c9a229-e99c-4db0-afff-8623495b0d0f",
   "metadata": {
    "tags": []
   },
   "source": [
    "# Example usage"
   ]
  },
  {
   "cell_type": "markdown",
   "id": "0df14272-c232-49cf-bacb-bdfe92d1801e",
   "metadata": {},
   "source": [
    "Create a new empty ternery search tree."
   ]
  },
  {
   "cell_type": "code",
   "execution_count": 28,
   "id": "1497b163-80f4-4615-9b96-de0d0d94bab4",
   "metadata": {
    "tags": []
   },
   "outputs": [],
   "source": [
    "tst = TernarySearchTree()"
   ]
  },
  {
   "cell_type": "markdown",
   "id": "0f4fab8f-f1f8-4e90-b533-ceec45b60dcb",
   "metadata": {},
   "source": [
    "Insert the string `'abc'` into the tree."
   ]
  },
  {
   "cell_type": "code",
   "execution_count": 29,
   "id": "3b159de7-9668-4814-9d52-92ddd95736c8",
   "metadata": {
    "tags": []
   },
   "outputs": [],
   "source": [
    "tst.insert('abc')"
   ]
  },
  {
   "cell_type": "markdown",
   "id": "5f3cbbf6-256e-4e36-815f-49fa9bbba3c8",
   "metadata": {},
   "source": [
    "Display the tree."
   ]
  },
  {
   "cell_type": "code",
   "execution_count": 30,
   "id": "596f3312-7d0f-42d2-9ea2-a50d81f7d8be",
   "metadata": {
    "tags": []
   },
   "outputs": [
    {
     "name": "stdout",
     "output_type": "stream",
     "text": [
      "root: a\n",
      "    eq: b terminates False\n",
      "        eq: c terminates True\n",
      "\n"
     ]
    }
   ],
   "source": [
    "print(tst)"
   ]
  },
  {
   "cell_type": "markdown",
   "id": "e76a848b-88a8-4b2e-8ee7-e93bb64ecff0",
   "metadata": {},
   "source": [
    "Insert another string `'aqt'`."
   ]
  },
  {
   "cell_type": "code",
   "execution_count": 31,
   "id": "d59f3ef9-0523-4c20-a2fa-073165a35d5e",
   "metadata": {
    "tags": []
   },
   "outputs": [],
   "source": [
    "tst.insert('aqt')"
   ]
  },
  {
   "cell_type": "code",
   "execution_count": 32,
   "id": "a6a40c5d-e3e4-4104-ab0a-308a4ccdb5e1",
   "metadata": {
    "tags": []
   },
   "outputs": [
    {
     "name": "stdout",
     "output_type": "stream",
     "text": [
      "root: a\n",
      "    eq: b terminates False\n",
      "        eq: c terminates True\n",
      "        gt: q terminates False\n",
      "            eq: t terminates True\n",
      "\n"
     ]
    }
   ],
   "source": [
    "print(tst)"
   ]
  },
  {
   "cell_type": "markdown",
   "id": "d3b133d1-b878-4e57-a2c9-17c44ba186cb",
   "metadata": {},
   "source": [
    "The tree should now contain two strings."
   ]
  },
  {
   "cell_type": "code",
   "execution_count": 33,
   "id": "45c03393-62ad-43e1-8667-5847d338d740",
   "metadata": {
    "tags": []
   },
   "outputs": [
    {
     "data": {
      "text/plain": [
       "2"
      ]
     },
     "execution_count": 33,
     "metadata": {},
     "output_type": "execute_result"
    }
   ],
   "source": [
    "len(tst)"
   ]
  },
  {
   "cell_type": "code",
   "execution_count": 34,
   "id": "1713d80e-e2e1-42b7-b1e0-cdc70aec6ceb",
   "metadata": {},
   "outputs": [
    {
     "data": {
      "text/plain": [
       "['aqt', 'abc']"
      ]
     },
     "execution_count": 34,
     "metadata": {},
     "output_type": "execute_result"
    }
   ],
   "source": [
    "tst.all_strings()"
   ]
  },
  {
   "cell_type": "markdown",
   "id": "7350133c-1484-485f-a8dc-1cac2c462ec7",
   "metadata": {},
   "source": [
    "Search for the string `'ab'`, it should be found since it is a prefix of `'abc'`."
   ]
  },
  {
   "cell_type": "code",
   "execution_count": 35,
   "id": "ddd71cf3-f887-4939-bae7-4a1c0a85a9e2",
   "metadata": {
    "tags": []
   },
   "outputs": [
    {
     "data": {
      "text/plain": [
       "True"
      ]
     },
     "execution_count": 35,
     "metadata": {},
     "output_type": "execute_result"
    }
   ],
   "source": [
    "tst.search('ab')"
   ]
  },
  {
   "cell_type": "markdown",
   "id": "45443693-ae5a-4584-bab2-7c20e8331dcc",
   "metadata": {},
   "source": [
    "The string `'ac'` should not be found."
   ]
  },
  {
   "cell_type": "code",
   "execution_count": 36,
   "id": "3756d5c9-0286-463a-8962-a0878ec067e2",
   "metadata": {
    "tags": []
   },
   "outputs": [
    {
     "data": {
      "text/plain": [
       "False"
      ]
     },
     "execution_count": 36,
     "metadata": {},
     "output_type": "execute_result"
    }
   ],
   "source": [
    "tst.search('ac')"
   ]
  },
  {
   "cell_type": "markdown",
   "id": "c244f370-77fa-4291-bc8d-b8a4e4c3a680",
   "metadata": {},
   "source": [
    "The tree can also contain the empty string."
   ]
  },
  {
   "cell_type": "code",
   "execution_count": 37,
   "id": "66a3fdd6-bb30-42ec-9f2e-73c880b40209",
   "metadata": {
    "tags": []
   },
   "outputs": [],
   "source": [
    "tst.insert('')"
   ]
  },
  {
   "cell_type": "code",
   "execution_count": 38,
   "id": "b94f344b-2c62-4b75-95e0-d79f609072fd",
   "metadata": {
    "tags": []
   },
   "outputs": [
    {
     "data": {
      "text/plain": [
       "3"
      ]
     },
     "execution_count": 38,
     "metadata": {},
     "output_type": "execute_result"
    }
   ],
   "source": [
    "len(tst)"
   ]
  },
  {
   "cell_type": "code",
   "execution_count": 39,
   "id": "be2221c7-57af-449c-b235-4b9257b98229",
   "metadata": {
    "tags": []
   },
   "outputs": [
    {
     "name": "stdout",
     "output_type": "stream",
     "text": [
      "root: a\n",
      "    lt:  terminates True\n",
      "    eq: b terminates False\n",
      "        eq: c terminates True\n",
      "        gt: q terminates False\n",
      "            eq: t terminates True\n",
      "\n"
     ]
    }
   ],
   "source": [
    "print(tst)"
   ]
  },
  {
   "cell_type": "code",
   "execution_count": 40,
   "id": "024e8ed2-b336-4234-8131-cd695864cf9f",
   "metadata": {},
   "outputs": [
    {
     "data": {
      "text/plain": [
       "['', 'aqt', 'abc']"
      ]
     },
     "execution_count": 40,
     "metadata": {},
     "output_type": "execute_result"
    }
   ],
   "source": [
    "tst.all_strings()"
   ]
  },
  {
   "cell_type": "markdown",
   "id": "1fee5f92-87e7-4ddb-b6e0-9001d4084faf",
   "metadata": {},
   "source": [
    "# Testing"
   ]
  },
  {
   "cell_type": "markdown",
   "id": "0f641fa7-aaf7-406e-813b-4a84645ca2fb",
   "metadata": {},
   "source": [
    "The file `data/search_trees/insert_words.txt` contains words that we can insert into a tree."
   ]
  },
  {
   "cell_type": "code",
   "execution_count": 41,
   "id": "19431f68-eafd-4e62-a410-06a7c7ec4168",
   "metadata": {
    "tags": []
   },
   "outputs": [],
   "source": [
    "tst = TernarySearchTree()\n",
    "with open('data/search_trees/insert_words.txt') as file:\n",
    "    words = [\n",
    "        line.strip() for line in file\n",
    "    ]\n",
    "for word in words:\n",
    "    tst.insert(word)\n",
    "unique_words = set(words)"
   ]
  },
  {
   "cell_type": "markdown",
   "id": "09ff039a-3780-4ef8-bed7-e6da0715800a",
   "metadata": {},
   "source": [
    "Verify the length of the data stucture."
   ]
  },
  {
   "cell_type": "code",
   "execution_count": 42,
   "id": "18090742-7a3a-400a-a077-e2904901a123",
   "metadata": {
    "tags": []
   },
   "outputs": [],
   "source": [
    "assert len(tst) == len(unique_words), \\\n",
    "print(f'{len(tst)} in tree, expected {len(unique_words)}')"
   ]
  },
  {
   "cell_type": "markdown",
   "id": "3715acd0-09b0-4d1d-9b1b-c33c7cca6ec9",
   "metadata": {},
   "source": [
    "Verify that all words that were inserted can be found."
   ]
  },
  {
   "cell_type": "code",
   "execution_count": 43,
   "id": "83fd3f2d-13ef-4cf9-9631-2f7550939efb",
   "metadata": {
    "tags": []
   },
   "outputs": [],
   "source": [
    "for word in unique_words:\n",
    "    assert tst.search(word), f'{word} not found'"
   ]
  },
  {
   "cell_type": "markdown",
   "id": "914240b6-1980-4436-9596-991258aac0d1",
   "metadata": {},
   "source": [
    "Verify that all prefixes can be found."
   ]
  },
  {
   "cell_type": "code",
   "execution_count": 44,
   "id": "7b320bc5-d544-4aa2-82f7-549eef526757",
   "metadata": {
    "tags": []
   },
   "outputs": [],
   "source": [
    "for word in unique_words:\n",
    "    for i in range(len(word) - 1, 0, -1):\n",
    "        prefix = word[:i]\n",
    "        assert tst.search(prefix), f'{prefix} not found'"
   ]
  },
  {
   "cell_type": "markdown",
   "id": "5e67261a-0260-451c-b975-5406458b7fc9",
   "metadata": {},
   "source": [
    "Chack that when searching for a exact match, only the inserted words are found, and no prefixes."
   ]
  },
  {
   "cell_type": "code",
   "execution_count": 45,
   "id": "c15f2bf1-e026-468d-86f1-b7bf7d4857a0",
   "metadata": {
    "tags": []
   },
   "outputs": [],
   "source": [
    "for word in unique_words:\n",
    "    for i in range(len(word), 0, -1):\n",
    "        prefix = word[:i]\n",
    "        if prefix not in unique_words:\n",
    "            assert not tst.search(prefix, exact=True), \\\n",
    "                   f'{prefix} found'"
   ]
  },
  {
   "cell_type": "markdown",
   "id": "63ce21af-9e38-473e-9bfa-572fc00beb7d",
   "metadata": {},
   "source": [
    "Check that the empty string is in the tree (since it is a prefix of any string)."
   ]
  },
  {
   "cell_type": "code",
   "execution_count": 46,
   "id": "02796895-029a-4f1f-aebe-19315b5a7964",
   "metadata": {
    "tags": []
   },
   "outputs": [],
   "source": [
    "assert tst.search(''), 'empty string not found'"
   ]
  },
  {
   "cell_type": "markdown",
   "id": "21485551-72ef-448f-a473-8fd94063a98a",
   "metadata": {},
   "source": [
    "Check that the empty string is not in the tree for an exact search."
   ]
  },
  {
   "cell_type": "code",
   "execution_count": 47,
   "id": "b3f7943c-ccc0-414a-a4bd-90398a09a829",
   "metadata": {
    "tags": []
   },
   "outputs": [],
   "source": [
    "assert not tst.search('', exact=True), 'empty string found'"
   ]
  },
  {
   "cell_type": "markdown",
   "id": "122ef82d-a23d-4245-899f-b070e0b13b0a",
   "metadata": {},
   "source": [
    "Check that words in the file `data/search_trees/not_insert_words.txt` can not be found in the tree."
   ]
  },
  {
   "cell_type": "code",
   "execution_count": 48,
   "id": "90ea39d5-5c96-4e79-8dc8-80c55de1cea2",
   "metadata": {
    "tags": []
   },
   "outputs": [],
   "source": [
    "with open('data/search_trees/not_insert_words.txt') as file:\n",
    "    for line in file:\n",
    "        word = line.strip()\n",
    "        assert not tst.search(word), f'{word} should not be found'"
   ]
  },
  {
   "cell_type": "markdown",
   "id": "bc93c3f1-a829-484c-a11d-d598914c3b8f",
   "metadata": {},
   "source": [
    "Check that all strings are returned."
   ]
  },
  {
   "cell_type": "code",
   "execution_count": 49,
   "id": "c09d0cab-02db-452e-8ac1-837e108ab63d",
   "metadata": {},
   "outputs": [],
   "source": [
    "all_strings = tst.all_strings()\n",
    "assert len(all_strings) == len(unique_words), \\\n",
    "       f'{len(all_strings)} words, expected {len(unique_words)}'\n",
    "assert sorted(all_strings) == sorted(unique_words), 'words do not match'"
   ]
  },
  {
   "cell_type": "markdown",
   "id": "4243d5d6-60d5-4f1b-857b-f26a4b1216a1",
   "metadata": {},
   "source": [
    "If not output was generated, all tests have passed."
   ]
  }
 ],
 "metadata": {
  "kernelspec": {
   "display_name": "Python 3 (ipykernel)",
   "language": "python",
   "name": "python3"
  },
  "language_info": {
   "codemirror_mode": {
    "name": "ipython",
    "version": 3
   },
   "file_extension": ".py",
   "mimetype": "text/x-python",
   "name": "python",
   "nbconvert_exporter": "python",
   "pygments_lexer": "ipython3",
   "version": "3.10.4"
  }
 },
 "nbformat": 4,
 "nbformat_minor": 5
}
