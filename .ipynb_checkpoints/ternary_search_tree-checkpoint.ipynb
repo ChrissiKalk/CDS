{
 "cells": [
  {
   "cell_type": "markdown",
   "id": "ba0f2afb-5d42-438b-86fc-03a36651e3df",
   "metadata": {},
   "source": [
    "A ternary search tree has nodes with the following attributes:\n",
    "* a character, can be `None`;\n",
    "* a Boolean flag that indicates whether the character represented\n",
    "  by this node has been the last in a string that was inserted in the\n",
    "  tree;\n",
    "* the \"less-than\" child;\n",
    "* the \"equals\" child and\n",
    "* the \"larger-than\" child.\n",
    "\n",
    "The data structure should support the following operations:\n",
    "* string insert\n",
    "* string search\n",
    "* prefix string search\n",
    "* return the number of strings stored in the data structure\n",
    "* return all strings stored in the data structure\n",
    "\n",
    "Also ensure that an instance of the data structure can be visualy represented, e.g., in aSCII format."
   ]
  },
  {
   "cell_type": "markdown",
   "id": "e24e0d90-56fa-4aed-a031-bb252cf55300",
   "metadata": {},
   "source": [
    "# Implementation"
   ]
  },
  {
   "cell_type": "code",
   "execution_count": 114,
   "id": "2e38f69e-5b57-4ae7-85ce-c1f65d6d3673",
   "metadata": {},
   "outputs": [
    {
     "name": "stdout",
     "output_type": "stream",
     "text": [
      "The autoreload extension is already loaded. To reload it, use:\n",
      "  %reload_ext autoreload\n"
     ]
    }
   ],
   "source": [
    "%load_ext autoreload\n",
    "%autoreload 2"
   ]
  },
  {
   "cell_type": "markdown",
   "id": "c4e0a12a-37c0-4ed0-8bd3-225764f59f4c",
   "metadata": {},
   "source": [
    "The data structure has been implemented as a class."
   ]
  },
  {
   "cell_type": "code",
   "execution_count": 256,
   "id": "f079d2ad",
   "metadata": {},
   "outputs": [],
   "source": [
    "from __future__ import (\n",
    "    annotations,\n",
    ")\n",
    "from typing import List\n",
    "\n",
    "class Node():\n",
    "    def __init__(self, letter: str, last: bool = False):\n",
    "        self._letter = letter\n",
    "        self._left, self._right, self._equal = None, None, None\n",
    "        self._last = last\n",
    "\n",
    "    def __repr__(self):\n",
    "        return self.letter\n",
    "    \n",
    "    @property\n",
    "    def last(self):\n",
    "        return self._last\n",
    "\n",
    "    @last.setter\n",
    "    def last(self, last: str):\n",
    "        print('setting ', last, ' as last property of the node.')\n",
    "        self._last = last\n",
    "    \n",
    "    @property\n",
    "    def letter(self):\n",
    "        return self._letter\n",
    "\n",
    "    @letter.setter\n",
    "    def letter(self, letter: str):\n",
    "        print('setting ', letter, ' as letter of the node.')\n",
    "        self._letter = letter\n",
    "\n",
    "\n",
    "    @property\n",
    "    def left(self):\n",
    "        return self._left\n",
    "\n",
    "    @left.setter\n",
    "    def left(self, left: Node):\n",
    "        print('setting left neighbor of node ', self,  'to ', left)\n",
    "        self._left = left\n",
    "\n",
    "    @property\n",
    "    def right(self):\n",
    "        return self._right\n",
    "\n",
    "    @right.setter\n",
    "    def right(self, right):\n",
    "        print('setting right neighbor of node ', self,  'to ', right)\n",
    "        self._right = right\n",
    "\n",
    "    @property\n",
    "    def equal(self):\n",
    "        return self._equal\n",
    "\n",
    "    @equal.setter\n",
    "    def equal(self, equal):\n",
    "        print('setting equal neighbor of node ', self,  'to ', equal)\n",
    "        self._equal = equal\n",
    "\n",
    "    \n",
    "\n",
    "\n",
    "\n",
    "\n",
    "    "
   ]
  },
  {
   "cell_type": "code",
   "execution_count": 276,
   "id": "b96c619e",
   "metadata": {},
   "outputs": [
    {
     "ename": "SyntaxError",
     "evalue": "invalid syntax (3867946924.py, line 35)",
     "output_type": "error",
     "traceback": [
      "\u001b[0;36m  Cell \u001b[0;32mIn[276], line 35\u001b[0;36m\u001b[0m\n\u001b[0;31m    if node.left != None:\u001b[0m\n\u001b[0m                        ^\u001b[0m\n\u001b[0;31mSyntaxError\u001b[0m\u001b[0;31m:\u001b[0m invalid syntax\n"
     ]
    }
   ],
   "source": [
    "class TernarySearchTree():\n",
    "    \"Ternary search tree is a tree \"\n",
    "    def __init__(self, root: Node= None)-> None:\n",
    "        self._root = root\n",
    "        #self._nodes = nodes\n",
    "        \n",
    "    @property\n",
    "    def root(self):\n",
    "        return self._root\n",
    "\n",
    "    @root.setter\n",
    "    def root(self, root):\n",
    "        print('setting root of tree ', self,  'to ', root)\n",
    "        self._root = root\n",
    "    \n",
    "    @property\n",
    "    def nodes(self):\n",
    "        return self._nodes\n",
    "\n",
    "    @nodes.setter\n",
    "    def nodes(self, nodes):\n",
    "        print('setting nodes of tree ', self,  'to ', *nodes)\n",
    "        self._nodes = nodes\n",
    "        \n",
    "    \n",
    "    \n",
    "    def __len__(self) -> int:\n",
    "        def get_successessors_rec(node: Node, successors:List[Node] = []):\n",
    "            if not node.left and not node.right and not node.equal:\n",
    "                return []\n",
    "            else:\n",
    "                if node.right:\n",
    "                    successors.append(node.right)\n",
    "                    successors = successors.extend(get_successessors_rec(node.right, [])\n",
    "                else: \n",
    "                    pass\n",
    "                if node.left:\n",
    "                    successors.append(node.left)\n",
    "                    successors = successors.extend(get_successessors_rec(node.left, [])\n",
    "                if node.equal:\n",
    "                    successors.append(node.equal)\n",
    "                    successors = successors.extend(get_successessors_rec(node.equal, [])\n",
    "            return successors\n",
    "            \n",
    "        counter = 0\n",
    "        successors = get_successessors_rec(self.root)\n",
    "        for node in successors:\n",
    "            if node.last == True:\n",
    "                counter += 1\n",
    "        return counter\n",
    "            \n",
    "    \"\"\"def all_strings(self, node: Node, strings: List = [], string: str = \"\") -> List[str]:\n",
    "        if node.last == True:\n",
    "            return node\n",
    "        else:\n",
    "            if node.left:\n",
    "                string_1 = string+get_all_words_rec(self, node.left, strings, string)\n",
    "            if node.right:\n",
    "                string_2 = string+get_all_words_rec(self, node.right, strings, string)\n",
    "            if node.equal:\n",
    "                string_3 = string+get_all_words_rec(self, node.equal, strings, string)\"\"\"\n",
    "            \n",
    "            \n",
    "    \n",
    "    \n",
    "    #def search(self, string: str, exact: bool = False) -> bool:\n",
    "        \n",
    "                \n",
    "                \n",
    "                \n",
    "                \n",
    "            \n",
    "        \n",
    "        \n",
    "\n",
    "    \n",
    "    def insert(self, string):\n",
    "        if not self.root:\n",
    "            self.root = Node(string[0])\n",
    "            current = self.root\n",
    "            for i, letter in enumerate(string[1:]):\n",
    "                to_insert = Node(letter)\n",
    "                if i == len(string)-2:\n",
    "                    print(\"last\")\n",
    "                    to_insert.last = True\n",
    "                current.equal = to_insert\n",
    "                #self.nodes.append(current.equal)\n",
    "                current = current.equal\n",
    "        else:\n",
    "            current = self.root\n",
    "            counter = 0\n",
    "            last = False\n",
    "            while counter < len(string):\n",
    "                if counter == len(string)-1:\n",
    "                    last = True\n",
    "                if string[counter] == current.letter:\n",
    "                    if current.equal and last:\n",
    "                        current.last = True\n",
    "                        counter += 1\n",
    "                    elif current.equal:\n",
    "                        current = current.equal\n",
    "                        counter += 1\n",
    "                    else:\n",
    "                        counter += 1\n",
    "                        current.equal = Node(string[counter], last)\n",
    "                        counter += 1\n",
    "                        current = current.equal\n",
    "                        #self.nodes.append(current.equal)\n",
    "                elif string[counter] < current.letter:\n",
    "                    if current.left:\n",
    "                        current = current.left\n",
    "                    else:\n",
    "                        current.left = Node(string[counter], last)\n",
    "                        #self.nodes.append(current.left)\n",
    "                        current = current.left\n",
    "                        counter += 1\n",
    "                else:\n",
    "                    if current.right:\n",
    "                        current = current.right\n",
    "                    else:\n",
    "                        current.right = Node(string[counter], last)\n",
    "                        #self.nodes.append(current.right)\n",
    "                        current = current.right\n",
    "                        counter += 1\n",
    "           # self.nodes[self.nodes.index(current)].last = True\n",
    "            \n",
    "            \n",
    "    def search(self, string:str, exact: bool = False) -> bool:\n",
    "        if not self.root:\n",
    "            return False\n",
    "        current = self.root\n",
    "        counter = 0\n",
    "        while counter < len(string):\n",
    "            if string[counter] == current.letter:\n",
    "                print(\"letter\", string[counter])\n",
    "                print(\"node\", current.letter)\n",
    "                print(counter)\n",
    "                if current.equal and counter != len(string)-1:\n",
    "                    current = current.equal\n",
    "                    counter += 1\n",
    "                elif counter == len(string)-1:\n",
    "                    counter += 1\n",
    "                    pass\n",
    "                else:\n",
    "                    return False\n",
    "            elif string[counter] < current.letter:\n",
    "                if current.left and counter != len(string)-1:\n",
    "                    current = current.left\n",
    "                elif counter == len(string)-1:\n",
    "                    counter += 1\n",
    "                    pass\n",
    "                else:\n",
    "                    return False\n",
    "            else:\n",
    "                if current.right and counter != len(string)-1:\n",
    "                    current = current.right\n",
    "                else:\n",
    "                    return False\n",
    "        \n",
    "        if exact == False:\n",
    "            return True\n",
    "        else:\n",
    "            print(\"current\", current.last)\n",
    "            if current.last == True:\n",
    "                return True\n",
    "            else:\n",
    "                return False\n",
    "        \n",
    "        \n",
    "                    \n",
    "            \n",
    "                \n",
    "                "
   ]
  },
  {
   "cell_type": "code",
   "execution_count": 262,
   "id": "241fbed7",
   "metadata": {},
   "outputs": [],
   "source": [
    "t = TernarySearchTree()"
   ]
  },
  {
   "cell_type": "code",
   "execution_count": 263,
   "id": "c05c59e9",
   "metadata": {},
   "outputs": [
    {
     "data": {
      "text/plain": [
       "0"
      ]
     },
     "execution_count": 263,
     "metadata": {},
     "output_type": "execute_result"
    }
   ],
   "source": [
    "len(t)"
   ]
  },
  {
   "cell_type": "code",
   "execution_count": 264,
   "id": "6598d68a",
   "metadata": {},
   "outputs": [
    {
     "name": "stdout",
     "output_type": "stream",
     "text": [
      "setting root of tree  <__main__.TernarySearchTree object at 0x7f7154246890> to  h\n",
      "setting equal neighbor of node  h to  e\n",
      "setting equal neighbor of node  e to  l\n",
      "setting equal neighbor of node  l to  l\n",
      "last\n",
      "setting  True  as last property of the node.\n",
      "setting equal neighbor of node  l to  o\n"
     ]
    }
   ],
   "source": [
    "t.insert(\"hello\")"
   ]
  },
  {
   "cell_type": "code",
   "execution_count": 265,
   "id": "bebdfd3c",
   "metadata": {},
   "outputs": [],
   "source": [
    "t.insert(\"hel\")"
   ]
  },
  {
   "cell_type": "code",
   "execution_count": 266,
   "id": "63f8d683-29d5-4e4d-bff8-d9264f5a18aa",
   "metadata": {
    "tags": []
   },
   "outputs": [
    {
     "data": {
      "text/plain": [
       "1"
      ]
     },
     "execution_count": 266,
     "metadata": {},
     "output_type": "execute_result"
    }
   ],
   "source": [
    "len(t)"
   ]
  },
  {
   "cell_type": "code",
   "execution_count": 267,
   "id": "2db1ea71",
   "metadata": {},
   "outputs": [
    {
     "name": "stdout",
     "output_type": "stream",
     "text": [
      "letter h\n",
      "node h\n",
      "0\n",
      "letter e\n",
      "node e\n",
      "1\n",
      "letter l\n",
      "node l\n",
      "2\n"
     ]
    },
    {
     "data": {
      "text/plain": [
       "False"
      ]
     },
     "execution_count": 267,
     "metadata": {},
     "output_type": "execute_result"
    }
   ],
   "source": [
    "t.search(\"helo\")\n",
    "\n"
   ]
  },
  {
   "cell_type": "code",
   "execution_count": 268,
   "id": "a2ffc33b",
   "metadata": {},
   "outputs": [
    {
     "name": "stdout",
     "output_type": "stream",
     "text": [
      "letter h\n",
      "node h\n",
      "0\n",
      "letter e\n",
      "node e\n",
      "1\n",
      "letter l\n",
      "node l\n",
      "2\n"
     ]
    },
    {
     "data": {
      "text/plain": [
       "True"
      ]
     },
     "execution_count": 268,
     "metadata": {},
     "output_type": "execute_result"
    }
   ],
   "source": [
    "t.search(\"hel\")"
   ]
  },
  {
   "cell_type": "code",
   "execution_count": 269,
   "id": "3c20f16c",
   "metadata": {},
   "outputs": [
    {
     "name": "stdout",
     "output_type": "stream",
     "text": [
      "letter h\n",
      "node h\n",
      "0\n",
      "letter e\n",
      "node e\n",
      "1\n",
      "letter l\n",
      "node l\n",
      "2\n",
      "letter l\n",
      "node l\n",
      "3\n",
      "letter o\n",
      "node o\n",
      "4\n"
     ]
    },
    {
     "data": {
      "text/plain": [
       "True"
      ]
     },
     "execution_count": 269,
     "metadata": {},
     "output_type": "execute_result"
    }
   ],
   "source": [
    "t.search(\"hello\")"
   ]
  },
  {
   "cell_type": "code",
   "execution_count": 270,
   "id": "c8e473bc",
   "metadata": {},
   "outputs": [
    {
     "name": "stdout",
     "output_type": "stream",
     "text": [
      "letter h\n",
      "node h\n",
      "0\n",
      "letter e\n",
      "node e\n",
      "1\n",
      "letter l\n",
      "node l\n",
      "2\n",
      "letter l\n",
      "node l\n",
      "3\n",
      "letter o\n",
      "node o\n",
      "4\n",
      "current True\n"
     ]
    },
    {
     "data": {
      "text/plain": [
       "True"
      ]
     },
     "execution_count": 270,
     "metadata": {},
     "output_type": "execute_result"
    }
   ],
   "source": [
    "t.search(\"hello\", exact = True)"
   ]
  },
  {
   "cell_type": "code",
   "execution_count": 271,
   "id": "28b44dab",
   "metadata": {},
   "outputs": [
    {
     "name": "stdout",
     "output_type": "stream",
     "text": [
      "letter h\n",
      "node h\n",
      "0\n",
      "letter e\n",
      "node e\n",
      "1\n",
      "letter l\n",
      "node l\n",
      "2\n",
      "current False\n"
     ]
    },
    {
     "data": {
      "text/plain": [
       "False"
      ]
     },
     "execution_count": 271,
     "metadata": {},
     "output_type": "execute_result"
    }
   ],
   "source": [
    "t.search(\"hel\", exact = True)"
   ]
  },
  {
   "cell_type": "code",
   "execution_count": 272,
   "id": "da2be18b",
   "metadata": {},
   "outputs": [
    {
     "name": "stdout",
     "output_type": "stream",
     "text": [
      "letter h\n",
      "node h\n",
      "0\n",
      "letter e\n",
      "node e\n",
      "1\n",
      "letter l\n",
      "node l\n",
      "2\n",
      "letter l\n",
      "node l\n",
      "3\n"
     ]
    },
    {
     "data": {
      "text/plain": [
       "True"
      ]
     },
     "execution_count": 272,
     "metadata": {},
     "output_type": "execute_result"
    }
   ],
   "source": [
    "t.search(\"hell\")"
   ]
  },
  {
   "cell_type": "code",
   "execution_count": 273,
   "id": "14ca4a80",
   "metadata": {},
   "outputs": [
    {
     "name": "stdout",
     "output_type": "stream",
     "text": [
      "letter h\n",
      "node h\n",
      "0\n",
      "letter e\n",
      "node e\n",
      "1\n",
      "letter l\n",
      "node l\n",
      "2\n",
      "letter l\n",
      "node l\n",
      "3\n",
      "current False\n"
     ]
    },
    {
     "data": {
      "text/plain": [
       "False"
      ]
     },
     "execution_count": 273,
     "metadata": {},
     "output_type": "execute_result"
    }
   ],
   "source": [
    "t.search(\"hell\", exact = True)"
   ]
  },
  {
   "cell_type": "code",
   "execution_count": 274,
   "id": "4c8a144e",
   "metadata": {},
   "outputs": [
    {
     "ename": "TypeError",
     "evalue": "list indices must be integers or slices, not str",
     "output_type": "error",
     "traceback": [
      "\u001b[0;31m---------------------------------------------------------------------------\u001b[0m",
      "\u001b[0;31mTypeError\u001b[0m                                 Traceback (most recent call last)",
      "Cell \u001b[0;32mIn[274], line 1\u001b[0m\n\u001b[0;32m----> 1\u001b[0m \u001b[43mt\u001b[49m\u001b[38;5;241;43m.\u001b[39;49m\u001b[43mnodes\u001b[49m\u001b[43m[\u001b[49m\u001b[38;5;124;43m\"\u001b[39;49m\u001b[38;5;124;43ml\u001b[39;49m\u001b[38;5;124;43m\"\u001b[39;49m\u001b[43m]\u001b[49m\n",
      "\u001b[0;31mTypeError\u001b[0m: list indices must be integers or slices, not str"
     ]
    }
   ],
   "source": [
    "t.nodes[\"l\"]"
   ]
  },
  {
   "cell_type": "code",
   "execution_count": null,
   "id": "550e65f5",
   "metadata": {},
   "outputs": [],
   "source": []
  },
  {
   "cell_type": "markdown",
   "id": "29c9a229-e99c-4db0-afff-8623495b0d0f",
   "metadata": {
    "tags": []
   },
   "source": [
    "# Example usage"
   ]
  },
  {
   "cell_type": "markdown",
   "id": "0df14272-c232-49cf-bacb-bdfe92d1801e",
   "metadata": {},
   "source": [
    "Create a new empty ternery search tree."
   ]
  },
  {
   "cell_type": "code",
   "execution_count": 27,
   "id": "1497b163-80f4-4615-9b96-de0d0d94bab4",
   "metadata": {
    "tags": []
   },
   "outputs": [],
   "source": [
    "tst = TernarySearchTree()"
   ]
  },
  {
   "cell_type": "markdown",
   "id": "0f4fab8f-f1f8-4e90-b533-ceec45b60dcb",
   "metadata": {},
   "source": [
    "Insert the string `'abc'` into the tree."
   ]
  },
  {
   "cell_type": "code",
   "execution_count": 28,
   "id": "3b159de7-9668-4814-9d52-92ddd95736c8",
   "metadata": {
    "tags": []
   },
   "outputs": [],
   "source": [
    "tst.insert('abc')"
   ]
  },
  {
   "cell_type": "markdown",
   "id": "5f3cbbf6-256e-4e36-815f-49fa9bbba3c8",
   "metadata": {},
   "source": [
    "Display the tree."
   ]
  },
  {
   "cell_type": "code",
   "execution_count": 29,
   "id": "596f3312-7d0f-42d2-9ea2-a50d81f7d8be",
   "metadata": {
    "tags": []
   },
   "outputs": [
    {
     "name": "stdout",
     "output_type": "stream",
     "text": [
      "terminates: False\n",
      "       char: a, terminates: False\n",
      "_eq:      char: b, terminates: False\n",
      "_eq:        char: c, terminates: True\n"
     ]
    }
   ],
   "source": [
    "print(tst)"
   ]
  },
  {
   "cell_type": "markdown",
   "id": "e76a848b-88a8-4b2e-8ee7-e93bb64ecff0",
   "metadata": {},
   "source": [
    "Insert another string `'aqt'`."
   ]
  },
  {
   "cell_type": "code",
   "execution_count": 30,
   "id": "d59f3ef9-0523-4c20-a2fa-073165a35d5e",
   "metadata": {
    "tags": []
   },
   "outputs": [],
   "source": [
    "tst.insert('aqt')"
   ]
  },
  {
   "cell_type": "code",
   "execution_count": 31,
   "id": "a6a40c5d-e3e4-4104-ab0a-308a4ccdb5e1",
   "metadata": {
    "tags": []
   },
   "outputs": [
    {
     "name": "stdout",
     "output_type": "stream",
     "text": [
      "terminates: False\n",
      "       char: a, terminates: False\n",
      "_eq:      char: b, terminates: False\n",
      "_eq:        char: c, terminates: True\n",
      "_gt:        char: q, terminates: False\n",
      "_eq:          char: t, terminates: True\n"
     ]
    }
   ],
   "source": [
    "print(tst)"
   ]
  },
  {
   "cell_type": "markdown",
   "id": "d3b133d1-b878-4e57-a2c9-17c44ba186cb",
   "metadata": {},
   "source": [
    "The tree should now contain two strings."
   ]
  },
  {
   "cell_type": "code",
   "execution_count": 32,
   "id": "45c03393-62ad-43e1-8667-5847d338d740",
   "metadata": {
    "tags": []
   },
   "outputs": [
    {
     "data": {
      "text/plain": [
       "2"
      ]
     },
     "execution_count": 32,
     "metadata": {},
     "output_type": "execute_result"
    }
   ],
   "source": [
    "len(tst)"
   ]
  },
  {
   "cell_type": "code",
   "execution_count": 33,
   "id": "1713d80e-e2e1-42b7-b1e0-cdc70aec6ceb",
   "metadata": {},
   "outputs": [
    {
     "data": {
      "text/plain": [
       "['abc', 'aqt']"
      ]
     },
     "execution_count": 33,
     "metadata": {},
     "output_type": "execute_result"
    }
   ],
   "source": [
    "tst.all_strings()"
   ]
  },
  {
   "cell_type": "markdown",
   "id": "7350133c-1484-485f-a8dc-1cac2c462ec7",
   "metadata": {},
   "source": [
    "Search for the string `'ab'`, it should be found since it is a prefix of `'abc'`."
   ]
  },
  {
   "cell_type": "code",
   "execution_count": 34,
   "id": "ddd71cf3-f887-4939-bae7-4a1c0a85a9e2",
   "metadata": {
    "tags": []
   },
   "outputs": [
    {
     "data": {
      "text/plain": [
       "True"
      ]
     },
     "execution_count": 34,
     "metadata": {},
     "output_type": "execute_result"
    }
   ],
   "source": [
    "tst.search('ab')"
   ]
  },
  {
   "cell_type": "markdown",
   "id": "45443693-ae5a-4584-bab2-7c20e8331dcc",
   "metadata": {},
   "source": [
    "The string `'ac'` should not be found."
   ]
  },
  {
   "cell_type": "code",
   "execution_count": 35,
   "id": "3756d5c9-0286-463a-8962-a0878ec067e2",
   "metadata": {
    "tags": []
   },
   "outputs": [
    {
     "data": {
      "text/plain": [
       "False"
      ]
     },
     "execution_count": 35,
     "metadata": {},
     "output_type": "execute_result"
    }
   ],
   "source": [
    "tst.search('ac')"
   ]
  },
  {
   "cell_type": "markdown",
   "id": "c244f370-77fa-4291-bc8d-b8a4e4c3a680",
   "metadata": {},
   "source": [
    "The tree can also contain the empty string."
   ]
  },
  {
   "cell_type": "code",
   "execution_count": 36,
   "id": "66a3fdd6-bb30-42ec-9f2e-73c880b40209",
   "metadata": {
    "tags": []
   },
   "outputs": [],
   "source": [
    "tst.insert('')"
   ]
  },
  {
   "cell_type": "code",
   "execution_count": 37,
   "id": "b94f344b-2c62-4b75-95e0-d79f609072fd",
   "metadata": {
    "tags": []
   },
   "outputs": [
    {
     "data": {
      "text/plain": [
       "3"
      ]
     },
     "execution_count": 37,
     "metadata": {},
     "output_type": "execute_result"
    }
   ],
   "source": [
    "len(tst)"
   ]
  },
  {
   "cell_type": "code",
   "execution_count": 38,
   "id": "be2221c7-57af-449c-b235-4b9257b98229",
   "metadata": {
    "tags": []
   },
   "outputs": [
    {
     "name": "stdout",
     "output_type": "stream",
     "text": [
      "terminates: True\n",
      "       char: a, terminates: False\n",
      "_eq:      char: b, terminates: False\n",
      "_eq:        char: c, terminates: True\n",
      "_gt:        char: q, terminates: False\n",
      "_eq:          char: t, terminates: True\n"
     ]
    }
   ],
   "source": [
    "print(tst)"
   ]
  },
  {
   "cell_type": "code",
   "execution_count": 39,
   "id": "024e8ed2-b336-4234-8131-cd695864cf9f",
   "metadata": {},
   "outputs": [
    {
     "data": {
      "text/plain": [
       "['', 'abc', 'aqt']"
      ]
     },
     "execution_count": 39,
     "metadata": {},
     "output_type": "execute_result"
    }
   ],
   "source": [
    "tst.all_strings()"
   ]
  },
  {
   "cell_type": "markdown",
   "id": "1fee5f92-87e7-4ddb-b6e0-9001d4084faf",
   "metadata": {},
   "source": [
    "# Testing"
   ]
  },
  {
   "cell_type": "markdown",
   "id": "0f641fa7-aaf7-406e-813b-4a84645ca2fb",
   "metadata": {},
   "source": [
    "The file `data/search_trees/insert_words.txt` contains words that we can insert into a tree."
   ]
  },
  {
   "cell_type": "code",
   "execution_count": 40,
   "id": "19431f68-eafd-4e62-a410-06a7c7ec4168",
   "metadata": {
    "tags": []
   },
   "outputs": [],
   "source": [
    "tst = TernarySearchTree()\n",
    "with open('data/search_trees/insert_words.txt') as file:\n",
    "    words = [\n",
    "        line.strip() for line in file\n",
    "    ]\n",
    "for word in words:\n",
    "    tst.insert(word)\n",
    "unique_words = set(words)"
   ]
  },
  {
   "cell_type": "markdown",
   "id": "09ff039a-3780-4ef8-bed7-e6da0715800a",
   "metadata": {},
   "source": [
    "Verify the length of the data stucture."
   ]
  },
  {
   "cell_type": "code",
   "execution_count": 41,
   "id": "18090742-7a3a-400a-a077-e2904901a123",
   "metadata": {
    "tags": []
   },
   "outputs": [],
   "source": [
    "assert len(tst) == len(unique_words), \\\n",
    "       f'{len(tst)} in tree, expected {len(unique_words)}'"
   ]
  },
  {
   "cell_type": "markdown",
   "id": "3715acd0-09b0-4d1d-9b1b-c33c7cca6ec9",
   "metadata": {},
   "source": [
    "Verify that all words that were inserted can be found."
   ]
  },
  {
   "cell_type": "code",
   "execution_count": 42,
   "id": "83fd3f2d-13ef-4cf9-9631-2f7550939efb",
   "metadata": {
    "tags": []
   },
   "outputs": [],
   "source": [
    "for word in unique_words:\n",
    "    assert tst.search(word), f'{word} not found'"
   ]
  },
  {
   "cell_type": "markdown",
   "id": "914240b6-1980-4436-9596-991258aac0d1",
   "metadata": {},
   "source": [
    "Verify that all prefixes can be found."
   ]
  },
  {
   "cell_type": "code",
   "execution_count": 43,
   "id": "7b320bc5-d544-4aa2-82f7-549eef526757",
   "metadata": {
    "tags": []
   },
   "outputs": [],
   "source": [
    "for word in unique_words:\n",
    "    for i in range(len(word) - 1, 0, -1):\n",
    "        prefix = word[:i]\n",
    "        assert tst.search(prefix), f'{prefix} not found'"
   ]
  },
  {
   "cell_type": "markdown",
   "id": "5e67261a-0260-451c-b975-5406458b7fc9",
   "metadata": {},
   "source": [
    "Chack that when searching for a exact match, only the inserted words are found, and no prefixes."
   ]
  },
  {
   "cell_type": "code",
   "execution_count": 44,
   "id": "c15f2bf1-e026-468d-86f1-b7bf7d4857a0",
   "metadata": {
    "tags": []
   },
   "outputs": [],
   "source": [
    "for word in unique_words:\n",
    "    for i in range(len(word), 0, -1):\n",
    "        prefix = word[:i]\n",
    "        if prefix not in unique_words:\n",
    "            assert not tst.search(prefix, exact=True), \\\n",
    "                   f'{prefix} found'"
   ]
  },
  {
   "cell_type": "markdown",
   "id": "63ce21af-9e38-473e-9bfa-572fc00beb7d",
   "metadata": {},
   "source": [
    "Check that the empty string is in the tree (since it is a prefix of any string)."
   ]
  },
  {
   "cell_type": "code",
   "execution_count": 45,
   "id": "02796895-029a-4f1f-aebe-19315b5a7964",
   "metadata": {
    "tags": []
   },
   "outputs": [],
   "source": [
    "assert tst.search(''), 'empty string not found'"
   ]
  },
  {
   "cell_type": "markdown",
   "id": "21485551-72ef-448f-a473-8fd94063a98a",
   "metadata": {},
   "source": [
    "Check that the empty string is not in the tree for an exact search."
   ]
  },
  {
   "cell_type": "code",
   "execution_count": 46,
   "id": "b3f7943c-ccc0-414a-a4bd-90398a09a829",
   "metadata": {
    "tags": []
   },
   "outputs": [],
   "source": [
    "assert not tst.search('', exact=True), 'empty string found'"
   ]
  },
  {
   "cell_type": "markdown",
   "id": "122ef82d-a23d-4245-899f-b070e0b13b0a",
   "metadata": {},
   "source": [
    "Check that words in the file `data/search_trees/not_insert_words.txt` can not be found in the tree."
   ]
  },
  {
   "cell_type": "code",
   "execution_count": 47,
   "id": "90ea39d5-5c96-4e79-8dc8-80c55de1cea2",
   "metadata": {
    "tags": []
   },
   "outputs": [],
   "source": [
    "with open('data/search_trees/not_insert_words.txt') as file:\n",
    "    for line in file:\n",
    "        word = line.strip()\n",
    "        assert not tst.search(word), f'{word} should not be found'"
   ]
  },
  {
   "cell_type": "markdown",
   "id": "bc93c3f1-a829-484c-a11d-d598914c3b8f",
   "metadata": {},
   "source": [
    "Check that all strings are returned."
   ]
  },
  {
   "cell_type": "code",
   "execution_count": 48,
   "id": "c09d0cab-02db-452e-8ac1-837e108ab63d",
   "metadata": {},
   "outputs": [],
   "source": [
    "all_strings = tst.all_strings()\n",
    "assert len(all_strings) == len(unique_words), \\\n",
    "       f'{len(all_strings)} words, expected {len(unique_words)}'\n",
    "assert sorted(all_strings) == sorted(unique_words), 'words do not match'"
   ]
  },
  {
   "cell_type": "markdown",
   "id": "4243d5d6-60d5-4f1b-857b-f26a4b1216a1",
   "metadata": {},
   "source": [
    "If not output was generated, all tests have passed."
   ]
  }
 ],
 "metadata": {
  "kernelspec": {
   "display_name": "Python 3 (ipykernel)",
   "language": "python",
   "name": "python3"
  },
  "language_info": {
   "codemirror_mode": {
    "name": "ipython",
    "version": 3
   },
   "file_extension": ".py",
   "mimetype": "text/x-python",
   "name": "python",
   "nbconvert_exporter": "python",
   "pygments_lexer": "ipython3",
   "version": "3.10.9"
  }
 },
 "nbformat": 4,
 "nbformat_minor": 5
}
