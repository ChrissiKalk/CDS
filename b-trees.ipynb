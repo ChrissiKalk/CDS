{
 "cells": [
  {
   "cell_type": "markdown",
   "id": "a417e2fd-2390-4383-ad30-7b1a12d77eed",
   "metadata": {},
   "source": [
    "A binary tree (or B-tree) can be used to store strings and retrieve them in logarithmic time.\n",
    "\n",
    "It supports the following operations:\n",
    "* insert a string;\n",
    "* search a string;\n",
    "* return the number of strings;\n",
    "* print all strings stored in the B-tree."
   ]
  },
  {
   "cell_type": "markdown",
   "id": "1a211933-6509-42a4-808c-86122c6024e4",
   "metadata": {},
   "source": [
    "# Implementation"
   ]
  },
  {
   "cell_type": "markdown",
   "id": "f9a789fd-ee10-427c-9483-f3a913d61e43",
   "metadata": {},
   "source": [
    "We implement two classes, one to represent a node of a binary search tree, the second to represent the tree.  Only the latter will be used by the user of the data structure, the `BtreeNode` class is only for intermal usage."
   ]
  },
  {
   "cell_type": "code",
   "execution_count": 1,
   "id": "9eb3bad6-a295-4235-8a89-54f0698cae17",
   "metadata": {},
   "outputs": [],
   "source": [
    "class BtreeNode:\n",
    "    \n",
    "    def __init__(self, string):\n",
    "        self._string = string\n",
    "        self._lt, self._gt = None, None\n",
    "\n",
    "    def _insert(self, string):\n",
    "        if string == self._string:\n",
    "            return\n",
    "        if string < self._string:\n",
    "            if self._lt is None:\n",
    "                self._lt = BtreeNode(string)\n",
    "            else:\n",
    "                self._lt._insert(string)\n",
    "        elif string > self._string:\n",
    "            if self._gt is None:\n",
    "                self._gt = BtreeNode(string)\n",
    "            else:\n",
    "                self._gt._insert(string)\n",
    "    \n",
    "    def _search(self, string):\n",
    "        if string == self._string:\n",
    "            return True\n",
    "        elif string < self._string:\n",
    "            return self._lt is not None and self._lt._search(string)\n",
    "        else:\n",
    "            return self._gt is not None and self._gt._search(string)\n",
    "    \n",
    "    def _all_strings(self):\n",
    "        strings = [self._string]\n",
    "        if self._lt is not None:\n",
    "            strings.extend(self._lt._all_strings())\n",
    "        if self._gt is not None:\n",
    "            strings.extend(self._gt._all_strings())\n",
    "        return strings\n",
    "\n",
    "    def __len__(self):\n",
    "        length = 1\n",
    "        if self._lt is not None:\n",
    "            length += len(self._lt)\n",
    "        if self._gt is not None:\n",
    "            length += len(self._gt)\n",
    "        return length\n",
    "\n",
    "    def _to_string(self, indent=''):\n",
    "        repr_str = indent + repr(self)\n",
    "        if self._lt is not None:\n",
    "            repr_str += '\\n' + self._lt._to_string(indent + '  ')\n",
    "        if self._gt is not None:\n",
    "            repr_str += '\\n' + self._gt._to_string(indent + '  ')\n",
    "        return repr_str\n",
    "\n",
    "    def __repr__(self):\n",
    "        return self._string"
   ]
  },
  {
   "cell_type": "code",
   "execution_count": 2,
   "id": "8ec909ac-4d8b-494b-9c3d-f285e9675efd",
   "metadata": {},
   "outputs": [],
   "source": [
    "class Btree:\n",
    "    \n",
    "    def __init__(self):\n",
    "        self._root = None\n",
    "        \n",
    "    def insert(self, string):\n",
    "        if self._root is None:\n",
    "            self._root = BtreeNode(string)\n",
    "        else:\n",
    "            self._root._insert(string)\n",
    "\n",
    "    def search(self, string):\n",
    "        if self._root is None:\n",
    "            return False\n",
    "        else:\n",
    "            return self._root._search(string)\n",
    "        \n",
    "    def all_strings(self):\n",
    "        if self._root is None:\n",
    "            return []\n",
    "        else:\n",
    "            return self._root._all_strings()\n",
    "        \n",
    "    def __len__(self):\n",
    "        if self._root is None:\n",
    "            return 0\n",
    "        else:\n",
    "            return len(self._root)\n",
    "    \n",
    "    def __repr__(self):\n",
    "        if self._root is None:\n",
    "            return 'empty tree'\n",
    "        else:\n",
    "            return self._root._to_string('')"
   ]
  },
  {
   "cell_type": "markdown",
   "id": "a91c335a-fb34-4aad-9618-ca5a37994eca",
   "metadata": {},
   "source": [
    "# Example usage"
   ]
  },
  {
   "cell_type": "markdown",
   "id": "e0c87ab1-77c6-44da-a164-cd8fe47c9a56",
   "metadata": {},
   "source": [
    "Create an empty B-tree."
   ]
  },
  {
   "cell_type": "code",
   "execution_count": 3,
   "id": "7d9ac8e8-3a62-4b86-abce-f776ced5e5dc",
   "metadata": {},
   "outputs": [],
   "source": [
    "btree = Btree()"
   ]
  },
  {
   "cell_type": "markdown",
   "id": "822bb80e-1a04-4eec-919a-84c6b30ff76f",
   "metadata": {},
   "source": [
    "Display it in its current state."
   ]
  },
  {
   "cell_type": "code",
   "execution_count": 4,
   "id": "68abcc0a-806f-478a-a281-de3b75e04533",
   "metadata": {},
   "outputs": [
    {
     "name": "stdout",
     "output_type": "stream",
     "text": [
      "empty tree\n"
     ]
    }
   ],
   "source": [
    "print(btree)"
   ]
  },
  {
   "cell_type": "markdown",
   "id": "a907bed2-4d27-4759-a428-e0ef00df5012",
   "metadata": {},
   "source": [
    "Verify that it has no strings stored."
   ]
  },
  {
   "cell_type": "code",
   "execution_count": 5,
   "id": "7285f2b4-f93c-4b67-983f-a480e5a32b81",
   "metadata": {},
   "outputs": [
    {
     "data": {
      "text/plain": [
       "0"
      ]
     },
     "execution_count": 5,
     "metadata": {},
     "output_type": "execute_result"
    }
   ],
   "source": [
    "len(btree)"
   ]
  },
  {
   "cell_type": "markdown",
   "id": "5729500f-6eb3-42a4-85d4-246c7420b051",
   "metadata": {},
   "source": [
    "Insert the string`'abc'`."
   ]
  },
  {
   "cell_type": "code",
   "execution_count": 6,
   "id": "2facdfce-0198-4ed8-b05e-37b6f4fd63ae",
   "metadata": {},
   "outputs": [],
   "source": [
    "btree.insert('abc')"
   ]
  },
  {
   "cell_type": "markdown",
   "id": "0b41b241-e013-4f35-a7f7-f7d73c742022",
   "metadata": {},
   "source": [
    "Verify that the string now encodes a single string."
   ]
  },
  {
   "cell_type": "code",
   "execution_count": 7,
   "id": "ddeadf32-6137-41a2-9146-3896348d1e96",
   "metadata": {},
   "outputs": [
    {
     "data": {
      "text/plain": [
       "1"
      ]
     },
     "execution_count": 7,
     "metadata": {},
     "output_type": "execute_result"
    }
   ],
   "source": [
    "len(btree)"
   ]
  },
  {
   "cell_type": "markdown",
   "id": "513701ae-c880-4c55-8f00-40bac574f6b6",
   "metadata": {},
   "source": [
    "Insert a second string `'aqc`'."
   ]
  },
  {
   "cell_type": "code",
   "execution_count": 8,
   "id": "e4cd49c8-a1db-4b0d-918f-4db5fb363e48",
   "metadata": {},
   "outputs": [],
   "source": [
    "btree.insert('aqc')"
   ]
  },
  {
   "cell_type": "markdown",
   "id": "7e8b7691-6957-4cf9-b0fb-a0508de81bcb",
   "metadata": {},
   "source": [
    "Now the tree has two elements."
   ]
  },
  {
   "cell_type": "code",
   "execution_count": 9,
   "id": "17e02f4c-be60-4dc3-b525-1ccb9ca7bae6",
   "metadata": {},
   "outputs": [
    {
     "data": {
      "text/plain": [
       "2"
      ]
     },
     "execution_count": 9,
     "metadata": {},
     "output_type": "execute_result"
    }
   ],
   "source": [
    "len(btree)"
   ]
  },
  {
   "cell_type": "code",
   "execution_count": 10,
   "id": "04017509-7a71-4cb3-ab5c-0573de16ea4c",
   "metadata": {},
   "outputs": [
    {
     "name": "stdout",
     "output_type": "stream",
     "text": [
      "abc\n",
      "  aqc\n"
     ]
    }
   ],
   "source": [
    "print(btree)"
   ]
  },
  {
   "cell_type": "markdown",
   "id": "9d332e03-12be-45f6-b044-8ac435a8b91c",
   "metadata": {},
   "source": [
    "Add a third string `'aaq'`."
   ]
  },
  {
   "cell_type": "code",
   "execution_count": 11,
   "id": "2508070b-c5e3-4e98-9036-54a32c253281",
   "metadata": {},
   "outputs": [],
   "source": [
    "btree.insert('aaq')"
   ]
  },
  {
   "cell_type": "code",
   "execution_count": 12,
   "id": "0a485cd8-2130-43b2-8b22-a286f08966a3",
   "metadata": {},
   "outputs": [
    {
     "name": "stdout",
     "output_type": "stream",
     "text": [
      "abc\n",
      "  aaq\n",
      "  aqc\n"
     ]
    }
   ],
   "source": [
    "print(btree)"
   ]
  },
  {
   "cell_type": "markdown",
   "id": "c95312c4-df84-4415-be04-3cf9c658daaa",
   "metadata": {},
   "source": [
    "Search for a string that is not in the B-tree."
   ]
  },
  {
   "cell_type": "code",
   "execution_count": 13,
   "id": "32b87cd1-fbc9-449d-9173-29bfb9b33688",
   "metadata": {},
   "outputs": [
    {
     "data": {
      "text/plain": [
       "False"
      ]
     },
     "execution_count": 13,
     "metadata": {},
     "output_type": "execute_result"
    }
   ],
   "source": [
    "btree.search('aac')"
   ]
  },
  {
   "cell_type": "markdown",
   "id": "3494802b-1783-4daa-b140-e79bf9056066",
   "metadata": {},
   "source": [
    "Search for a string that is inserted into the B-tree."
   ]
  },
  {
   "cell_type": "code",
   "execution_count": 14,
   "id": "dc0d2296-1495-4cef-a075-060528dc9cfa",
   "metadata": {},
   "outputs": [
    {
     "data": {
      "text/plain": [
       "True"
      ]
     },
     "execution_count": 14,
     "metadata": {},
     "output_type": "execute_result"
    }
   ],
   "source": [
    "btree.search('aaq')"
   ]
  },
  {
   "cell_type": "markdown",
   "id": "246ff180-4dc8-4b63-9fca-b249dbbc2430",
   "metadata": {},
   "source": [
    "List all strings in the B-tree."
   ]
  },
  {
   "cell_type": "code",
   "execution_count": 15,
   "id": "c2dd6e64-a2b2-45c3-a881-fb55550ae74a",
   "metadata": {},
   "outputs": [
    {
     "data": {
      "text/plain": [
       "['abc', 'aaq', 'aqc']"
      ]
     },
     "execution_count": 15,
     "metadata": {},
     "output_type": "execute_result"
    }
   ],
   "source": [
    "btree.all_strings()"
   ]
  },
  {
   "cell_type": "markdown",
   "id": "26dc72c2-004c-4e37-be19-f12b259ea4b1",
   "metadata": {},
   "source": [
    "# Testing"
   ]
  },
  {
   "cell_type": "markdown",
   "id": "cd0a3520-6734-4cf2-9775-6fff8ed331ab",
   "metadata": {},
   "source": [
    "Create a new B-tree and insert some words."
   ]
  },
  {
   "cell_type": "code",
   "execution_count": 16,
   "id": "e741bfac-03c3-4605-8fa3-2bd1c89020c6",
   "metadata": {
    "tags": []
   },
   "outputs": [],
   "source": [
    "btree = Btree()\n",
    "with open('data/search_trees/insert_words.txt') as file:\n",
    "    words = [\n",
    "        line.strip() for line in file\n",
    "    ]\n",
    "for word in words:\n",
    "    btree.insert(word)\n",
    "unique_words = set(words)"
   ]
  },
  {
   "cell_type": "markdown",
   "id": "dfadb4b9-3149-447c-9956-d1087697e51f",
   "metadata": {},
   "source": [
    "Verify the length of the data stucture."
   ]
  },
  {
   "cell_type": "code",
   "execution_count": 17,
   "id": "e2926317-6969-47d5-b861-253e3e2ecef2",
   "metadata": {
    "tags": []
   },
   "outputs": [],
   "source": [
    "assert len(btree) == len(unique_words), \\\n",
    "       f'{len(btree)} in tree, expected {len(unique_words)}'"
   ]
  },
  {
   "cell_type": "markdown",
   "id": "c6b727d4-c934-43b6-a94c-8d9d1a1e7222",
   "metadata": {},
   "source": [
    "Verify that all words that were inserted can be found."
   ]
  },
  {
   "cell_type": "code",
   "execution_count": 18,
   "id": "116d7b4c-0459-4b2d-bf15-79ab454c0453",
   "metadata": {
    "tags": []
   },
   "outputs": [],
   "source": [
    "for word in unique_words:\n",
    "    assert btree.search(word), f'{word} not found'"
   ]
  },
  {
   "cell_type": "markdown",
   "id": "007b40e8-d698-4b91-9f88-de491a795722",
   "metadata": {},
   "source": [
    "Check that words in the file `data/search_trees/not_insert_words.txt` can not be found in the tree."
   ]
  },
  {
   "cell_type": "code",
   "execution_count": 19,
   "id": "918cf92c-e177-4360-ac07-3c4606a5fbdb",
   "metadata": {
    "tags": []
   },
   "outputs": [],
   "source": [
    "with open('data/search_trees/not_insert_words.txt') as file:\n",
    "    for line in file:\n",
    "        word = line.strip()\n",
    "        assert not btree.search(word), f'{word} should not be found'"
   ]
  },
  {
   "cell_type": "markdown",
   "id": "cf606a32-3ec7-4145-a608-e7c6c171f218",
   "metadata": {},
   "source": [
    "Check that all strings are returned."
   ]
  },
  {
   "cell_type": "code",
   "execution_count": 20,
   "id": "07f4019a-dd58-420a-a74c-f9c98b3abf58",
   "metadata": {},
   "outputs": [],
   "source": [
    "all_strings = btree.all_strings()\n",
    "assert len(all_strings) == len(unique_words), \\\n",
    "       f'{len(all_strings)} words, expected {len(unique_words)}'\n",
    "assert sorted(all_strings) == sorted(unique_words), 'words do not match'"
   ]
  },
  {
   "cell_type": "markdown",
   "id": "8a9c0c95-b794-416f-9de0-001cb0529126",
   "metadata": {},
   "source": [
    "If no output was generated, all tests have passed."
   ]
  },
  {
   "cell_type": "markdown",
   "id": "bfb6be6a-bbfb-4046-87ca-1832405535df",
   "metadata": {},
   "source": [
    "# Performance"
   ]
  },
  {
   "cell_type": "markdown",
   "id": "97543af1-8472-4fc6-bd5d-91cc25b0f9ac",
   "metadata": {},
   "source": [
    "To assess the performance, i.e., the time it takes to insert a new string or search the binary tree as a function of the tree's size, we need a large dataset.  This is provided in `data/search_trees/corncob_lowercase.txt`.  This file contains over 58,000 English words, all lower case."
   ]
  },
  {
   "cell_type": "code",
   "execution_count": 21,
   "id": "7319ae20-1fa4-4f0c-b4d9-acc58371cdb8",
   "metadata": {},
   "outputs": [],
   "source": [
    "with open('data/search_trees/corncob_lowercase.txt') as file:\n",
    "    words = [line.strip() for line in file]"
   ]
  },
  {
   "cell_type": "code",
   "execution_count": 22,
   "id": "b7f82dec-9fae-4efe-89d7-b7c601a310a3",
   "metadata": {},
   "outputs": [
    {
     "data": {
      "text/plain": [
       "58110"
      ]
     },
     "execution_count": 22,
     "metadata": {},
     "output_type": "execute_result"
    }
   ],
   "source": [
    "len(words)"
   ]
  },
  {
   "cell_type": "markdown",
   "id": "46a37e63-23b1-4812-ba9a-f901bbbe4546",
   "metadata": {},
   "source": [
    "The words are alphabetically ordered."
   ]
  },
  {
   "cell_type": "code",
   "execution_count": 23,
   "id": "03567dca-3ae3-47a5-9e7b-2f6dad5ca6f2",
   "metadata": {},
   "outputs": [
    {
     "data": {
      "text/plain": [
       "['aardvark',\n",
       " 'aardwolf',\n",
       " 'aaron',\n",
       " 'aback',\n",
       " 'abacus',\n",
       " 'abaft',\n",
       " 'abalone',\n",
       " 'abandon',\n",
       " 'abandoned',\n",
       " 'abandonment',\n",
       " 'abandons',\n",
       " 'abase',\n",
       " 'abased',\n",
       " 'abasement',\n",
       " 'abash',\n",
       " 'abashed',\n",
       " 'abate',\n",
       " 'abated',\n",
       " 'abatement',\n",
       " 'abates']"
      ]
     },
     "execution_count": 23,
     "metadata": {},
     "output_type": "execute_result"
    }
   ],
   "source": [
    "words[:20]"
   ]
  },
  {
   "cell_type": "markdown",
   "id": "b1870abb-8c80-4dee-aae7-c05ca40a5c6a",
   "metadata": {},
   "source": [
    "We will select random samples of increasing sizes from the list."
   ]
  },
  {
   "cell_type": "code",
   "execution_count": 24,
   "id": "e985f2c8-4bc4-4bb7-a6f7-28b4841cb526",
   "metadata": {},
   "outputs": [],
   "source": [
    "import random\n",
    "import time"
   ]
  },
  {
   "cell_type": "code",
   "execution_count": 25,
   "id": "f1734a77-0991-4c41-b8cb-94ff2a439686",
   "metadata": {},
   "outputs": [],
   "source": [
    "sizes = [100, 500, 1_000, 5_000, 10_000, 20_000, 30_000, 40_000, 50_000]"
   ]
  },
  {
   "cell_type": "code",
   "execution_count": 26,
   "id": "07c42b9d-d951-4eca-9f1a-0680f1bc8dc0",
   "metadata": {},
   "outputs": [],
   "source": [
    "samples = [\n",
    "    random.sample(words, k=size) for size in sizes\n",
    "]"
   ]
  },
  {
   "cell_type": "markdown",
   "id": "f5f3eee3-6477-4f02-b5f7-dcbf16dc83d8",
   "metadata": {},
   "source": [
    "We can now time how long it takes to insert words into a B-tree of various sizes.  First we build the B-tree based on the sample, and then we insert words."
   ]
  },
  {
   "cell_type": "code",
   "execution_count": 27,
   "id": "8580421d-266c-40e4-a706-3ef5440d04e9",
   "metadata": {},
   "outputs": [
    {
     "data": {
      "text/plain": [
       "{100: 0.0169227,\n",
       " 500: 0.0212762,\n",
       " 1000: 0.0229081,\n",
       " 5000: 0.0456779,\n",
       " 10000: 0.028248,\n",
       " 20000: 0.0297672,\n",
       " 30000: 0.0339069,\n",
       " 40000: 0.034217,\n",
       " 50000: 0.0336}"
      ]
     },
     "execution_count": 27,
     "metadata": {},
     "output_type": "execute_result"
    }
   ],
   "source": [
    "nr_runs = 10\n",
    "times = {}\n",
    "insert_sample = random.sample(words, k=20)\n",
    "for sample in samples:\n",
    "    btree = Btree()\n",
    "    for word in sample:\n",
    "        btree.insert(word)\n",
    "    times[len(sample)] = 0.0\n",
    "    for _ in range(nr_runs):\n",
    "        start_time = time.time_ns()\n",
    "        for word in insert_sample:\n",
    "            btree.insert(word)\n",
    "        end_time = time.time_ns()\n",
    "        times[len(sample)] += end_time - start_time\n",
    "    times[len(sample)] /= nr_runs*1_000_000.0\n",
    "times"
   ]
  },
  {
   "cell_type": "code",
   "execution_count": 28,
   "id": "eadabee2-70cd-4982-b5b8-2d602b78ae1d",
   "metadata": {},
   "outputs": [],
   "source": [
    "import matplotlib.pyplot as plt"
   ]
  },
  {
   "cell_type": "code",
   "execution_count": 29,
   "id": "ad6865fd-8feb-43b4-8a89-2f38f3a8a88d",
   "metadata": {},
   "outputs": [
    {
     "data": {
      "image/png": "[encoded data removed]",
      "text/plain": [
       "<Figure size 640x480 with 1 Axes>"
      ]
     },
     "metadata": {},
     "output_type": "display_data"
    }
   ],
   "source": [
    "plt.plot(times.keys(), times.values());"
   ]
  },
  {
   "cell_type": "markdown",
   "id": "7a85b021-0579-4ec0-8f4e-3b15d062a72a",
   "metadata": {},
   "source": [
    "We can do the same for searching words in a B-tree of various sizes.  First we build the B-tree based on the sample, and then we search words."
   ]
  },
  {
   "cell_type": "code",
   "execution_count": 30,
   "id": "657b4cb1-800b-4cd2-95bf-6861939a0510",
   "metadata": {},
   "outputs": [
    {
     "data": {
      "text/plain": [
       "{100: 0.0143018,\n",
       " 500: 0.0198965,\n",
       " 1000: 0.0204134,\n",
       " 5000: 0.0295416,\n",
       " 10000: 0.024304,\n",
       " 20000: 0.027661,\n",
       " 30000: 0.0284209,\n",
       " 40000: 0.0322838,\n",
       " 50000: 0.0277159}"
      ]
     },
     "execution_count": 30,
     "metadata": {},
     "output_type": "execute_result"
    }
   ],
   "source": [
    "nr_runs = 10\n",
    "times = {}\n",
    "search_sample = random.sample(words, k=20)\n",
    "for sample in samples:\n",
    "    btree = Btree()\n",
    "    for word in sample:\n",
    "        btree.insert(word)\n",
    "    times[len(sample)] = 0.0\n",
    "    for _ in range(nr_runs):\n",
    "        start_time = time.time_ns()\n",
    "        for word in search_sample:\n",
    "            btree.search(word)\n",
    "        end_time = time.time_ns()\n",
    "        times[len(sample)] += end_time - start_time\n",
    "    times[len(sample)] /= nr_runs*1_000_000.0\n",
    "times"
   ]
  },
  {
   "cell_type": "code",
   "execution_count": 31,
   "id": "c2066e36-b001-44e4-9980-99201341b974",
   "metadata": {},
   "outputs": [
    {
     "data": {
      "image/png": "[encoded data removed]",
      "text/plain": [
       "<Figure size 640x480 with 1 Axes>"
      ]
     },
     "metadata": {},
     "output_type": "display_data"
    }
   ],
   "source": [
    "plt.plot(times.keys(), times.values());"
   ]
  },
  {
   "cell_type": "code",
   "execution_count": 32,
   "id": "791560c0-4f67-4abf-b4de-f1d1700712ba",
   "metadata": {},
   "outputs": [
    {
     "data": {
      "text/plain": [
       "{100: 0.0124974,\n",
       " 500: 0.0155676,\n",
       " 1000: 0.0282134,\n",
       " 5000: 0.0260871,\n",
       " 10000: 0.0263266,\n",
       " 20000: 0.0359154,\n",
       " 30000: 0.0506863,\n",
       " 40000: 0.0366609,\n",
       " 50000: 0.0390104}"
      ]
     },
     "execution_count": 32,
     "metadata": {},
     "output_type": "execute_result"
    }
   ],
   "source": [
    "nr_runs = 10\n",
    "times = {}\n",
    "for sample in samples:\n",
    "    btree = Btree()\n",
    "    for word in sample:\n",
    "        btree.insert(word)\n",
    "    times[len(sample)] = 0.0\n",
    "    for _ in range(nr_runs):\n",
    "        search_sample = random.sample(sample, k=20)\n",
    "        start_time = time.time_ns()\n",
    "        for word in search_sample:\n",
    "            btree.search(word)\n",
    "        end_time = time.time_ns()\n",
    "        times[len(sample)] += end_time - start_time\n",
    "    times[len(sample)] /= nr_runs*1_000_000.0\n",
    "times"
   ]
  },
  {
   "cell_type": "code",
   "execution_count": 33,
   "id": "166e2ee9-cfcb-4186-a905-dafe2e401c78",
   "metadata": {},
   "outputs": [
    {
     "data": {
      "image/png": "[encoded data removed]",
      "text/plain": [
       "<Figure size 640x480 with 1 Axes>"
      ]
     },
     "metadata": {},
     "output_type": "display_data"
    }
   ],
   "source": [
    "plt.plot(times.keys(), times.values());"
   ]
  },
  {
   "cell_type": "markdown",
   "id": "360394bc-5408-4892-ad66-43ab3f44cfbc",
   "metadata": {},
   "source": [
    "# Comparison with `set`"
   ]
  },
  {
   "cell_type": "markdown",
   "id": "de01b5ab-7651-41c8-a2fa-5370bceb9113",
   "metadata": {},
   "source": [
    "How does it stack up to a Python `set`?"
   ]
  },
  {
   "cell_type": "code",
   "execution_count": 37,
   "id": "b6089b58-fb8d-4262-b47d-96116760ed8c",
   "metadata": {},
   "outputs": [],
   "source": [
    "with open('data/search_trees/corncob_lowercase.txt') as file:\n",
    "    words = [line.strip() for line in file]\n",
    "random.shuffle(words)"
   ]
  },
  {
   "cell_type": "code",
   "execution_count": 38,
   "id": "38ef242d-c5ee-453e-a06d-97788962cfb6",
   "metadata": {},
   "outputs": [],
   "source": [
    "hold_out_sample = words[-100:]\n",
    "insert_sample = words[:-100]"
   ]
  },
  {
   "cell_type": "code",
   "execution_count": 40,
   "id": "1ff77a19-3b48-4e19-b9a4-640a9cfcfe57",
   "metadata": {},
   "outputs": [
    {
     "name": "stdout",
     "output_type": "stream",
     "text": [
      "3.35 ms ± 90.6 µs per loop (mean ± std. dev. of 7 runs, 100 loops each)\n"
     ]
    }
   ],
   "source": [
    "%%timeit\n",
    "word_set = set()\n",
    "for word in insert_sample:\n",
    "    word_set.add(word)"
   ]
  },
  {
   "cell_type": "code",
   "execution_count": 41,
   "id": "723afc9d-7a09-4fc4-904e-994a8571bd54",
   "metadata": {},
   "outputs": [
    {
     "name": "stdout",
     "output_type": "stream",
     "text": [
      "136 ms ± 1.04 ms per loop (mean ± std. dev. of 7 runs, 10 loops each)\n"
     ]
    }
   ],
   "source": [
    "%%timeit\n",
    "word_btree = Btree()\n",
    "for word in insert_sample:\n",
    "    word_btree.insert(word)"
   ]
  },
  {
   "cell_type": "code",
   "execution_count": 43,
   "id": "265b9d3d-3ad4-41b4-a7a1-5f965165f400",
   "metadata": {},
   "outputs": [],
   "source": [
    "word_set = set()\n",
    "for word in insert_sample:\n",
    "    word_set.add(word)"
   ]
  },
  {
   "cell_type": "code",
   "execution_count": 44,
   "id": "a7e84b37-25aa-413b-b8a3-f12aa21663de",
   "metadata": {},
   "outputs": [
    {
     "name": "stdout",
     "output_type": "stream",
     "text": [
      "1.67 µs ± 6.42 ns per loop (mean ± std. dev. of 7 runs, 1,000,000 loops each)\n"
     ]
    }
   ],
   "source": [
    "%%timeit\n",
    "total = 0\n",
    "for word in hold_out_sample:\n",
    "    if word in word_set:\n",
    "        total += 1"
   ]
  },
  {
   "cell_type": "code",
   "execution_count": 45,
   "id": "cc59af06-723a-40d2-a9be-fbb4184fa6ec",
   "metadata": {},
   "outputs": [],
   "source": [
    "word_btree = Btree()\n",
    "for word in insert_sample:\n",
    "    word_btree.insert(word)"
   ]
  },
  {
   "cell_type": "code",
   "execution_count": 46,
   "id": "b49c8522-eb43-4b77-ae2f-5b8648a633c4",
   "metadata": {},
   "outputs": [
    {
     "name": "stdout",
     "output_type": "stream",
     "text": [
      "176 µs ± 156 ns per loop (mean ± std. dev. of 7 runs, 10,000 loops each)\n"
     ]
    }
   ],
   "source": [
    "%%timeit\n",
    "total = 0\n",
    "for word in hold_out_sample:\n",
    "    if word_btree.search(word):\n",
    "        total += 1"
   ]
  },
  {
   "cell_type": "markdown",
   "id": "98405b6e-319f-4c4b-b943-c49f7d398315",
   "metadata": {},
   "source": [
    "It is clear that Python sets outperform our B-tree implementation."
   ]
  }
 ],
 "metadata": {
  "kernelspec": {
   "display_name": "Python 3 (ipykernel)",
   "language": "python",
   "name": "python3"
  },
  "language_info": {
   "codemirror_mode": {
    "name": "ipython",
    "version": 3
   },
   "file_extension": ".py",
   "mimetype": "text/x-python",
   "name": "python",
   "nbconvert_exporter": "python",
   "pygments_lexer": "ipython3",
   "version": "3.10.9"
  }
 },
 "nbformat": 4,
 "nbformat_minor": 5
}
